{
 "cells": [
  {
   "cell_type": "code",
   "execution_count": null,
   "metadata": {},
   "outputs": [],
   "source": [
    "import scipp as sc\n",
    "import numpy as np\n",
    "import dataconfig # dataconfig produced via make_config.py"
   ]
  },
  {
   "cell_type": "code",
   "execution_count": null,
   "metadata": {},
   "outputs": [],
   "source": [
    "def to_bin_centers(d, dim):\n",
    "    edges = d.coords[dim].copy()\n",
    "    del d.coords[dim]\n",
    "    d.coords[dim] = 0.5 * (edges[dim, 1:] + edges[dim, :-1])"
   ]
  },
  {
   "cell_type": "code",
   "execution_count": null,
   "metadata": {},
   "outputs": [],
   "source": [
    "def to_bin_edges(d, dim):\n",
    "    centers = d.coords[dim].copy()\n",
    "    del d.coords[dim]\n",
    "    first = 1.5*centers[dim, 0] - 0.5*centers[dim, 1]\n",
    "    last = 1.5*centers[dim, -1] - 0.5*centers[dim, -2]\n",
    "    bulk = 0.5 * (centers[dim, 1:] + centers[dim, :-1])\n",
    "    edges = sc.concatenate(first, bulk, dim)\n",
    "    edges = sc.concatenate(edges, last, dim)\n",
    "    d.coords[dim] = edges"
   ]
  },
  {
   "cell_type": "code",
   "execution_count": null,
   "metadata": {},
   "outputs": [],
   "source": [
    "def rebin_distribution(data, dim, edges):\n",
    "    bin_width = data.coords[dim][dim,1:] - data.coords[dim][dim,:-1]\n",
    "    data *= bin_width\n",
    "    data = sc.rebin(data, dim, edges)\n",
    "    bin_width = edges[dim,1:] - edges[dim,:-1]\n",
    "    data /= bin_width\n",
    "    return data"
   ]
  },
  {
   "cell_type": "code",
   "execution_count": null,
   "metadata": {},
   "outputs": [],
   "source": [
    "path = dataconfig.data_root\n",
    "direct_beam_file = 'DirectBeam_20feb_full_v3.dat'\n",
    "moderator_file = 'ModeratorStdDev_TS2_SANS_LETexptl_07Aug2015.txt'\n",
    "sample_run_number = 49338\n",
    "sample_transmission_run_number = 49339\n",
    "background_run_number = 49334\n",
    "background_transmission_run_number = 49335\n",
    "\n",
    "def load_larmor(run_number):\n",
    "    return sc.neutron.load(filename=f'{path}/LARMOR000{run_number}.nxs')\n",
    "\n",
    "def load_rkh(filename):\n",
    "    data = sc.neutron.load(\n",
    "           filename=filename,\n",
    "           mantid_alg='LoadRKH',\n",
    "           mantid_args={'FirstColumnValue':'Wavelength'})\n",
    "    data.unit = sc.units.one / sc.units.angstrom #TODO bug in converter\n",
    "    return data"
   ]
  },
  {
   "cell_type": "code",
   "execution_count": null,
   "metadata": {},
   "outputs": [],
   "source": [
    "%%time\n",
    "sample_trans = load_larmor(sample_transmission_run_number)\n",
    "sample = load_larmor(sample_run_number)\n",
    "background_trans = load_larmor(background_transmission_run_number)\n",
    "background = load_larmor(background_run_number)"
   ]
  },
  {
   "cell_type": "code",
   "execution_count": null,
   "metadata": {},
   "outputs": [],
   "source": [
    "sample_pos_offset = sc.Variable(\n",
    "    value=[0.0, 0.0, 0.30530],\n",
    "    unit=sc.units.m,\n",
    "    dtype=sc.dtype.vector_3_float64)\n",
    "bench_pos_offset = sc.Variable(\n",
    "    value=[0.0, 0.001, 0.0],\n",
    "    unit=sc.units.m,\n",
    "    dtype=sc.dtype.vector_3_float64)\n",
    "for item in [sample, sample_trans, background, background_trans]:\n",
    "    item.coords['sample_position'] += sample_pos_offset\n",
    "    item.coords['position'] += bench_pos_offset"
   ]
  },
  {
   "cell_type": "code",
   "execution_count": null,
   "metadata": {},
   "outputs": [],
   "source": [
    "wavelength_bins = sc.Variable(\n",
    "    dims=['wavelength'],\n",
    "    unit=sc.units.angstrom,\n",
    "    values=np.geomspace(0.9, 13.5, num=110))"
   ]
  },
  {
   "cell_type": "code",
   "execution_count": null,
   "metadata": {},
   "outputs": [],
   "source": [
    "def apply_masks(data):\n",
    "    tof = data.coords['tof']\n",
    "    data.masks['bins'] = sc.less(tof['tof',1:], 1500.0 * sc.units.us) | \\\n",
    "                         (sc.greater(tof['tof',:-1], 17500.0 * sc.units.us) & \\\n",
    "                          sc.less(tof['tof',1:], 19000.0 * sc.units.us))\n",
    "    pos = sc.neutron.position(data)\n",
    "    x = sc.geometry.x(pos)\n",
    "    y = sc.geometry.y(pos)\n",
    "    data.masks['beam-stop'] = sc.less(sc.sqrt(x*x+y*y), 0.045 * sc.units.m)\n",
    "    data.masks['tube-ends'] = sc.greater(sc.abs(x), 0.36 * sc.units.m) # roughly all det IDs listed in original\n",
    "    #MaskDetectorsInShape(Workspace=maskWs, ShapeXML=self.maskingPlaneXML) # irrelevant tiny wedge?"
   ]
  },
  {
   "cell_type": "code",
   "execution_count": null,
   "metadata": {},
   "outputs": [],
   "source": [
    "def background_mean(data, dim, begin, end):\n",
    "    coord = data.coords[dim]\n",
    "    assert (coord.unit == begin.unit) and (coord.unit == end.unit)\n",
    "    i = np.searchsorted(coord, begin.value)\n",
    "    j = np.searchsorted(coord, end.value) + 1\n",
    "    return data - sc.mean(data[dim, i:j], dim)"
   ]
  },
  {
   "cell_type": "code",
   "execution_count": null,
   "metadata": {},
   "outputs": [],
   "source": [
    "def transmission_fraction(incident_beam, transmission):\n",
    "    # Approximation based on equations in CalculateTransmission documentation\n",
    "    # TODO proper implementation of mantid.CalculateTransmission\n",
    "    return (transmission / transmission) * (incident_beam / incident_beam)\n",
    "    #CalculateTransmission(SampleRunWorkspace=transWsTmp,\n",
    "    #                      DirectRunWorkspace=transWsTmp,\n",
    "    #                      OutputWorkspace=outWsName,\n",
    "    #                      IncidentBeamMonitor=1,\n",
    "    #                      TransmissionMonitor=4, RebinParams='0.9,-0.025,13.5',\n",
    "    #                      FitMethod='Polynomial',\n",
    "    #                      PolynomialOrder=3, OutputUnfittedData=True)"
   ]
  },
  {
   "cell_type": "code",
   "execution_count": null,
   "metadata": {},
   "outputs": [],
   "source": [
    "beamline = sc.neutron.TofBeamline(\n",
    "    path=['source_position', 'sample_position', 'position'],\n",
    "    scatter='sample_position')\n",
    "elastic = sc.neutron.ElasticScattering(theta='theta');"
   ]
  },
  {
   "cell_type": "code",
   "execution_count": null,
   "metadata": {},
   "outputs": [],
   "source": [
    "def extract_monitor_background(data, begin, end):\n",
    "    background = background_mean(data, 'tof', begin, end)\n",
    "    del background.coords['detector_info']\n",
    "    background = beamline.convert(background, 'tof', 'wavelength', scatter=False)['spectrum', 0]\n",
    "    background = sc.rebin(background, 'wavelength', wavelength_bins)\n",
    "    return background\n",
    "\n",
    "def setup_transmission(data):\n",
    "    incident_beam = extract_monitor_background(data['spectrum', 0:1], 40000.0*sc.units.us, 99000.0*sc.units.us)\n",
    "    transmission = extract_monitor_background(data['spectrum', 3:4], 88000.0*sc.units.us, 98000.0*sc.units.us)\n",
    "    return transmission_fraction(incident_beam, transmission)"
   ]
  },
  {
   "cell_type": "code",
   "execution_count": null,
   "metadata": {},
   "outputs": [],
   "source": [
    "def solid_angle(data):\n",
    "    # TODO proper solid angle\n",
    "    # [0.0117188,0.0075,0.0075] bounding box size\n",
    "    pixel_size = 0.0075 * sc.units.m \n",
    "    pixel_length = 0.0117188 * sc.units.m\n",
    "    L2 = sc.neutron.l2(data)\n",
    "    return (pixel_size * pixel_length) / (L2 * L2)"
   ]
  },
  {
   "cell_type": "code",
   "execution_count": null,
   "metadata": {},
   "outputs": [],
   "source": [
    "def q1d(data, transmission):\n",
    "    transmission = setup_transmission(transmission)\n",
    "    data = data.copy()\n",
    "    apply_masks(data)\n",
    "    data = beamline.convert(data, 'tof', 'wavelength', scatter=True, out=data)\n",
    "    data = sc.rebin(data, 'wavelength', wavelength_bins)\n",
    "\n",
    "    monitor = data.attrs['monitor1'].value\n",
    "    monitor = background_mean(monitor, 'tof', 40000.0*sc.units.us, 99000.0*sc.units.us)\n",
    "    monitor = beamline.convert(monitor, 'tof', 'wavelength', scatter=False, out=monitor)\n",
    "    monitor = sc.rebin(monitor, 'wavelength', wavelength_bins)\n",
    "\n",
    "    # this factor seems to be a fudge factor. Explanation pending.\n",
    "    data *= 100.0 / 176.71458676442586\n",
    "\n",
    "    # Setup direct beam and normalise to monitor. I.e. adjust for efficiency of detector across the wavelengths.\n",
    "    direct_beam = load_rkh(filename=f'{path}/{direct_beam_file}')\n",
    "    del direct_beam.coords['detector_info']\n",
    "    to_bin_edges(direct_beam, 'wavelength')\n",
    "    direct_beam = rebin_distribution(direct_beam, 'wavelength', monitor.coords['wavelength'])\n",
    "    direct_beam.unit = sc.units.one # TODO conflicts with unit conv to Q, is Q1D2 ignoring this?\n",
    "    direct_beam = monitor * transmission * direct_beam\n",
    "    del direct_beam.coords['position'] # TODO already in wavelength -> never using TofBeamline -> non-standard coords\n",
    "\n",
    "    # Estimate qresolution function\n",
    "    moderator = load_rkh(filename=f'{path}/{moderator_file}')\n",
    "    to_bin_edges(moderator, 'wavelength')\n",
    "    # TODO\n",
    "    #qResWs = TOFSANSResolutionByPixel(InputWorkspace=dataWs,\n",
    "    #                                  DeltaR=8,\n",
    "    #                                  SampleApertureRadius=4.0824829046386295,\n",
    "    #                                  SourceApertureRadius=14.433756729740645,\n",
    "    #                                  SigmaModerator=modWs, CollimationLength=5,\n",
    "    #                                  AccountForGravity=True,\n",
    "    #                                  ExtraLength=2)\n",
    "\n",
    "    q_bins = sc.Variable(\n",
    "        dims=['Q'],\n",
    "        unit=sc.units.one/sc.units.angstrom,\n",
    "        values=np.geomspace(0.008, 0.6, num=55))\n",
    "    # TODO QResolution\n",
    "    d = sc.Dataset({'data':data, 'norm':solid_angle(data)*direct_beam})\n",
    "    to_bin_centers(d, 'wavelength')\n",
    "    d = elastic.convert(d, 'wavelength', 'Q', out=d) # TODO no gravity yet\n",
    "    d = sc.histogram(d, q_bins)\n",
    "    d = sc.sum(d, 'spectrum')\n",
    "    I = d['data']/d['norm']\n",
    "\n",
    "    return I"
   ]
  },
  {
   "cell_type": "code",
   "execution_count": null,
   "metadata": {
    "scrolled": false
   },
   "outputs": [],
   "source": [
    "%%time\n",
    "sample_q1d = q1d(data=sample, transmission=sample_trans)\n",
    "background_q1d = q1d(data=background, transmission=background_trans)\n",
    "reduced = sample_q1d - background_q1d\n",
    "\n",
    "reduced.attrs['UserFile'] = sc.Variable(\n",
    "    value='USER_Raspino_191E_BCSLarmor_24Feb2020_v1.txt')\n",
    "reduced.attrs['Transmission'] = sc.Variable(\n",
    "    value=f'{sample_transmission_run_number}_trans_sample_0.9_13.5_unfitted')\n",
    "reduced.attrs['TransmissionCan'] = sc.Variable(\n",
    "    value=f'{background_transmission_run_number}_trans_can_0.9_13.5_unfitted')"
   ]
  },
  {
   "cell_type": "code",
   "execution_count": null,
   "metadata": {},
   "outputs": [],
   "source": [
    "reduced"
   ]
  },
  {
   "cell_type": "code",
   "execution_count": null,
   "metadata": {},
   "outputs": [],
   "source": [
    "from scipp.plot import plot\n",
    "values, stddev = np.loadtxt(\"mantid_reduced.txt\")\n",
    "q = np.loadtxt(\"mantid_reduced_q.txt\")\n",
    "\n",
    "mantid = sc.DataArray(data=sc.Variable(['Q'],\n",
    "                                       values=values,\n",
    "                                       variances=stddev*stddev),\n",
    "                      coords={'Q': sc.Variable(['Q'], unit=sc.units.one/sc.units.angstrom, values=q)})\n",
    "mantid = sc.rebin(mantid, 'Q', reduced.coords['Q'])\n",
    "\n",
    "ds = sc.Dataset({'mantid': mantid, 'scipp': reduced})\n",
    "plot(ds, logy=True)"
   ]
  }
 ],
 "metadata": {
  "kernelspec": {
   "display_name": "Python 3",
   "language": "python",
   "name": "python3"
  },
  "language_info": {
   "codemirror_mode": {
    "name": "ipython",
    "version": 3
   },
   "file_extension": ".py",
   "mimetype": "text/x-python",
   "name": "python",
   "nbconvert_exporter": "python",
   "pygments_lexer": "ipython3",
   "version": "3.7.3"
  }
 },
 "nbformat": 4,
 "nbformat_minor": 4
}
